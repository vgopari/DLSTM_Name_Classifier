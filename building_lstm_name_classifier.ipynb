{
  "cells": [
    {
      "cell_type": "markdown",
      "metadata": {
        "id": "A6lYfBV8Zbsm"
      },
      "source": [
        "## Training a differentially private LSTM model for name classification"
      ]
    },
    {
      "cell_type": "markdown",
      "metadata": {
        "id": "btlNkem0Zbso"
      },
      "source": [
        "In this tutorial, we will build a differentially-private LSTM model to classify names to their source languages, which is the same task as in the tutorial **NLP From Scratch** (https://pytorch.org/tutorials/intermediate/char_rnn_classification_tutorial.html). Since the objective of this tutorial is to demonstrate the effective use of an LSTM with privacy guarantees, we will be utilizing it in place of the bare-bones RNN model defined in the original tutorial. Specifically, we use the `DPLSTM` module from `opacus.layers.dp_lstm` to facilitate the calculation of the per-example gradients, which are utilized in the addition of noise during the application of differential privacy. `DPLSTM` has the same API and functionality as the `nn.LSTM`, with some restrictions (ex. we currently support single layers, the full list is given below).  "
      ]
    },
    {
      "cell_type": "code",
      "source": [
        "pip install opacus"
      ],
      "metadata": {
        "colab": {
          "base_uri": "https://localhost:8080/"
        },
        "id": "4r09dfmpZqc-",
        "outputId": "feb38759-2f0e-4cde-b496-b0cb9b9c9b27"
      },
      "execution_count": 63,
      "outputs": [
        {
          "output_type": "stream",
          "name": "stdout",
          "text": [
            "Looking in indexes: https://pypi.org/simple, https://us-python.pkg.dev/colab-wheels/public/simple/\n",
            "Requirement already satisfied: opacus in /usr/local/lib/python3.8/dist-packages (1.3.0)\n",
            "Requirement already satisfied: torch>=1.8 in /usr/local/lib/python3.8/dist-packages (from opacus) (1.13.0)\n",
            "Requirement already satisfied: opt-einsum>=3.3.0 in /usr/local/lib/python3.8/dist-packages (from opacus) (3.3.0)\n",
            "Requirement already satisfied: numpy>=1.15 in /usr/local/lib/python3.8/dist-packages (from opacus) (1.21.6)\n",
            "Requirement already satisfied: functorch in /usr/local/lib/python3.8/dist-packages (from opacus) (1.13.0)\n",
            "Requirement already satisfied: scipy>=1.2 in /usr/local/lib/python3.8/dist-packages (from opacus) (1.7.3)\n",
            "Requirement already satisfied: nvidia-cublas-cu11==11.10.3.66 in /usr/local/lib/python3.8/dist-packages (from torch>=1.8->opacus) (11.10.3.66)\n",
            "Requirement already satisfied: nvidia-cuda-nvrtc-cu11==11.7.99 in /usr/local/lib/python3.8/dist-packages (from torch>=1.8->opacus) (11.7.99)\n",
            "Requirement already satisfied: nvidia-cuda-runtime-cu11==11.7.99 in /usr/local/lib/python3.8/dist-packages (from torch>=1.8->opacus) (11.7.99)\n",
            "Requirement already satisfied: typing-extensions in /usr/local/lib/python3.8/dist-packages (from torch>=1.8->opacus) (4.1.1)\n",
            "Requirement already satisfied: nvidia-cudnn-cu11==8.5.0.96 in /usr/local/lib/python3.8/dist-packages (from torch>=1.8->opacus) (8.5.0.96)\n",
            "Requirement already satisfied: setuptools in /usr/local/lib/python3.8/dist-packages (from nvidia-cublas-cu11==11.10.3.66->torch>=1.8->opacus) (57.4.0)\n",
            "Requirement already satisfied: wheel in /usr/local/lib/python3.8/dist-packages (from nvidia-cublas-cu11==11.10.3.66->torch>=1.8->opacus) (0.38.4)\n"
          ]
        }
      ]
    },
    {
      "cell_type": "markdown",
      "metadata": {
        "id": "_x4qBFvpZbsp"
      },
      "source": [
        "## Dataset"
      ]
    },
    {
      "cell_type": "markdown",
      "metadata": {
        "id": "OpoR-IAyZbsp"
      },
      "source": [
        "First, let us download the dataset of names and their associated language labels as given in https://pytorch.org/tutorials/intermediate/char_rnn_classification_tutorial.html. We train our differentially-private LSTM on the same dataset as in that tutorial."
      ]
    },
    {
      "cell_type": "code",
      "execution_count": 64,
      "metadata": {
        "id": "2GRKyFteZbsq",
        "outputId": "84084cb0-fdbe-4d88-dfd8-99255041c948",
        "colab": {
          "base_uri": "https://localhost:8080/"
        }
      },
      "outputs": [
        {
          "output_type": "stream",
          "name": "stdout",
          "text": [
            "Downloading and extracting ...\n",
            "Completed!\n"
          ]
        }
      ],
      "source": [
        "import warnings\n",
        "warnings.simplefilter(\"ignore\")\n",
        "\n",
        "import os\n",
        "import requests\n",
        "\n",
        "\n",
        "NAMES_DATASET_URL = \"https://download.pytorch.org/tutorial/data.zip\"\n",
        "DATA_DIR = \"names\"\n",
        "\n",
        "import zipfile\n",
        "import urllib\n",
        "\n",
        "def download_and_extract(dataset_url, data_dir):\n",
        "    print(\"Downloading and extracting ...\")\n",
        "    filename = \"data.zip\"\n",
        "\n",
        "    urllib.request.urlretrieve(dataset_url, filename)\n",
        "    with zipfile.ZipFile(filename) as zip_ref:\n",
        "        zip_ref.extractall(data_dir)\n",
        "    os.remove(filename)\n",
        "    print(\"Completed!\")\n",
        "\n",
        "download_and_extract(NAMES_DATASET_URL, DATA_DIR)"
      ]
    },
    {
      "cell_type": "code",
      "execution_count": 65,
      "metadata": {
        "id": "45AZcGGOZbsr",
        "outputId": "457cd59d-f300-4466-aa05-66df724c61ef",
        "colab": {
          "base_uri": "https://localhost:8080/"
        }
      },
      "outputs": [
        {
          "output_type": "stream",
          "name": "stdout",
          "text": [
            "['Egypt.txt', 'Irish.txt', 'Mauritius.txt', 'Russian.txt', 'Chinese.txt', 'Angola.txt', 'US.txt', 'Korean.txt', 'Dutch.txt', 'Estonia.txt', 'Arabic.txt', 'Vietnamese.txt', 'Greek.txt', 'Cyprus.txt', 'albania.txt', 'Haiti.txt', 'Afganisthan.txt', 'Scottish.txt', 'French.txt']\n"
          ]
        }
      ],
      "source": [
        "names_folder = os.path.join(DATA_DIR, 'data', 'default_dataset') \n",
        "all_filenames = []\n",
        "\n",
        "for language_file in os.listdir(names_folder):\n",
        "    all_filenames.append(os.path.join(names_folder, language_file))\n",
        "    \n",
        "print(os.listdir(names_folder))"
      ]
    },
    {
      "cell_type": "code",
      "execution_count": 66,
      "metadata": {
        "id": "3B3lHf5KZbss"
      },
      "outputs": [],
      "source": [
        "import torch\n",
        "import torch.nn as nn\n",
        "\n",
        "class CharByteEncoder(nn.Module):\n",
        "    \"\"\"\n",
        "    This encoder takes a UTF-8 string and encodes its bytes into a Tensor. It can also\n",
        "    perform the opposite operation to check a result.\n",
        "    Examples:\n",
        "    >>> encoder = CharByteEncoder()\n",
        "    >>> t = encoder('Ślusàrski')  # returns tensor([256, 197, 154, 108, 117, 115, 195, 160, 114, 115, 107, 105, 257])\n",
        "    >>> encoder.decode(t)  # returns \"<s>Ślusàrski</s>\"\n",
        "    \"\"\"\n",
        "\n",
        "    def __init__(self):\n",
        "        super().__init__()\n",
        "        self.start_token = \"<s>\"\n",
        "        self.end_token = \"</s>\"\n",
        "        self.pad_token = \"<pad>\"\n",
        "\n",
        "        self.start_idx = 256\n",
        "        self.end_idx = 257\n",
        "        self.pad_idx = 258\n",
        "\n",
        "    def forward(self, s: str, pad_to=0) -> torch.LongTensor:\n",
        "        \"\"\"\n",
        "        Encodes a string. It will append a start token <s> (id=self.start_idx) and an end token </s>\n",
        "        (id=self.end_idx).\n",
        "        Args:\n",
        "            s: The string to encode.\n",
        "            pad_to: If not zero, pad by appending self.pad_idx until string is of length `pad_to`.\n",
        "                Defaults to 0.\n",
        "        Returns:\n",
        "            The encoded LongTensor of indices.\n",
        "        \"\"\"\n",
        "        encoded = s.encode()\n",
        "        n_pad = pad_to - len(encoded) if pad_to > len(encoded) else 0\n",
        "        return torch.LongTensor(\n",
        "            [self.start_idx]\n",
        "            + [c for c in encoded]  # noqa\n",
        "            + [self.end_idx]\n",
        "            + [self.pad_idx for _ in range(n_pad)]\n",
        "        )\n",
        "\n",
        "    def decode(self, char_ids_tensor: torch.LongTensor) -> str:\n",
        "        \"\"\"\n",
        "        The inverse of `forward`. Keeps the start, end, and pad indices.\n",
        "        \"\"\"\n",
        "        char_ids = char_ids_tensor.cpu().detach().tolist()\n",
        "\n",
        "        out = []\n",
        "        buf = []\n",
        "        for c in char_ids:\n",
        "            if c < 256:\n",
        "                buf.append(c)\n",
        "            else:\n",
        "                if buf:\n",
        "                    out.append(bytes(buf).decode())\n",
        "                    buf = []\n",
        "                if c == self.start_idx:\n",
        "                    out.append(self.start_token)\n",
        "                elif c == self.end_idx:\n",
        "                    out.append(self.end_token)\n",
        "                elif c == self.pad_idx:\n",
        "                    out.append(self.pad_token)\n",
        "\n",
        "        if buf:  # in case some are left\n",
        "            out.append(bytes(buf).decode())\n",
        "        return \"\".join(out)\n",
        "\n",
        "    def __len__(self):\n",
        "        \"\"\"\n",
        "        The length of our encoder space. This is fixed to 256 (one byte) + 3 special chars\n",
        "        (start, end, pad).\n",
        "        Returns:\n",
        "            259\n",
        "        \"\"\"\n",
        "        return 259"
      ]
    },
    {
      "cell_type": "markdown",
      "metadata": {
        "id": "qUoaG07aZbsu"
      },
      "source": [
        "## Training / Validation Set Preparation"
      ]
    },
    {
      "cell_type": "code",
      "execution_count": 67,
      "metadata": {
        "id": "aHrKdPp9Zbsv"
      },
      "outputs": [],
      "source": [
        "from torch.nn.utils.rnn import pad_sequence\n",
        "\n",
        "def padded_collate(batch, padding_idx=0):\n",
        "    x = pad_sequence(\n",
        "        [elem[0] for elem in batch], batch_first=True, padding_value=padding_idx\n",
        "    )\n",
        "    y = torch.stack([elem[1] for elem in batch]).long()\n",
        "\n",
        "    return x, y"
      ]
    },
    {
      "cell_type": "code",
      "execution_count": 68,
      "metadata": {
        "id": "6ST2ZmLMZbsv"
      },
      "outputs": [],
      "source": [
        "from torch.utils.data import Dataset\n",
        "from pathlib import Path\n",
        "\n",
        "\n",
        "class NamesDataset(Dataset):\n",
        "    def __init__(self, root):\n",
        "        self.root = Path(root)\n",
        "\n",
        "        self.labels = list({langfile.stem for langfile in self.root.iterdir()})\n",
        "        self.labels_dict = {label: i for i, label in enumerate(self.labels)}\n",
        "        self.encoder = CharByteEncoder()\n",
        "        self.samples = self.construct_samples()\n",
        "\n",
        "    def __getitem__(self, i):\n",
        "        return self.samples[i]\n",
        "\n",
        "    def __len__(self):\n",
        "        return len(self.samples)\n",
        "\n",
        "    def construct_samples(self):\n",
        "        samples = []\n",
        "        for langfile in self.root.iterdir():\n",
        "            label_name = langfile.stem\n",
        "            label_id = self.labels_dict[label_name]\n",
        "            with open(langfile, \"r\") as fin:\n",
        "                for row in fin:\n",
        "                    samples.append(\n",
        "                        (self.encoder(row.strip()), torch.tensor(label_id).long())\n",
        "                    )\n",
        "        return samples\n",
        "\n",
        "    def label_count(self):\n",
        "        cnt = Counter()\n",
        "        for _x, y in self.samples:\n",
        "            label = self.labels[int(y)]\n",
        "            cnt[label] += 1\n",
        "        return cnt\n",
        "\n",
        "\n",
        "VOCAB_SIZE = 256 + 3  # 256 alternatives in one byte, plus 3 special characters.\n"
      ]
    },
    {
      "cell_type": "markdown",
      "metadata": {
        "id": "Csus3rv6Zbsw"
      },
      "source": [
        "We split the dataset into a 80-20 split for training and validation. "
      ]
    },
    {
      "cell_type": "code",
      "execution_count": 69,
      "metadata": {
        "id": "lONsZNDVZbsw",
        "outputId": "e36714fa-43b9-480b-cce3-cdc7d06d08fb",
        "colab": {
          "base_uri": "https://localhost:8080/"
        }
      },
      "outputs": [
        {
          "output_type": "stream",
          "name": "stdout",
          "text": [
            "17561 samples for training, 4391 for testing\n"
          ]
        }
      ],
      "source": [
        "secure_mode = False\n",
        "train_split = 0.8\n",
        "test_every = 5\n",
        "batch_size = 800\n",
        "\n",
        "ds = NamesDataset(names_folder)\n",
        "train_len = int(train_split * len(ds))\n",
        "test_len = len(ds) - train_len\n",
        "\n",
        "print(f\"{train_len} samples for training, {test_len} for testing\")\n",
        "\n",
        "train_ds, test_ds = torch.utils.data.random_split(ds, [train_len, test_len])"
      ]
    },
    {
      "cell_type": "code",
      "execution_count": 70,
      "metadata": {
        "id": "vZzNUnHnZbsx"
      },
      "outputs": [],
      "source": [
        "from torch.utils.data import DataLoader\n",
        "\n",
        "train_loader = DataLoader(\n",
        "    train_ds,\n",
        "    batch_size=batch_size,\n",
        "    pin_memory=True,\n",
        "    collate_fn=padded_collate,\n",
        ")\n",
        "\n",
        "test_loader = DataLoader(\n",
        "    test_ds,\n",
        "    batch_size=2 * batch_size,\n",
        "    shuffle=False,\n",
        "    pin_memory=True,\n",
        "    collate_fn=padded_collate,\n",
        ")"
      ]
    },
    {
      "cell_type": "markdown",
      "metadata": {
        "id": "2pfb1FhGZbsx"
      },
      "source": [
        "After splitting the dataset into a training and a validation set, we now have to convert the data into a numeric form suitable for training the LSTM model. For each name, we set a maximum sequence length of 15, and if a name is longer than the threshold, we truncate it (this rarely happens in this dataset!). If a name is smaller than the threshold, we add a dummy `#` character to pad it to the desired length. We also batch the names in the dataset and set a batch size of 256 for all the experiments in this tutorial. The function `line_to_tensor()` returns a tensor of shape [15, 256] where each element is the index (in `all_letters`) of the corresponding character."
      ]
    },
    {
      "cell_type": "markdown",
      "metadata": {
        "id": "NISGutyfZbsy"
      },
      "source": [
        "## Training/Evaluation Cycle "
      ]
    },
    {
      "cell_type": "markdown",
      "metadata": {
        "id": "Ig3n_rGPZbsy"
      },
      "source": [
        "The training and the evaluation functions `train()` and `test()` are defined below. During the training loop, the per-example gradients are computed and the parameters are updated subsequent to gradient clipping (to bound their sensitivity) and addition of noise.  "
      ]
    },
    {
      "cell_type": "code",
      "execution_count": 71,
      "metadata": {
        "id": "jF-Ck9QZZbsy"
      },
      "outputs": [],
      "source": [
        "from statistics import mean\n",
        "\n",
        "def train(model, criterion, optimizer, train_loader, epoch, privacy_engine, device=\"cuda:0\"):\n",
        "    accs = []\n",
        "    losses = []\n",
        "    for x, y in train_loader:\n",
        "        x = x.to(device)\n",
        "        y = y.to(device)\n",
        "\n",
        "        logits = model(x)\n",
        "        loss = criterion(logits, y)\n",
        "        loss.backward()\n",
        "\n",
        "        optimizer.step()\n",
        "        optimizer.zero_grad()\n",
        "\n",
        "        preds = logits.argmax(-1)\n",
        "        n_correct = float(preds.eq(y).sum())\n",
        "        batch_accuracy = n_correct / len(y)\n",
        "\n",
        "        accs.append(batch_accuracy)\n",
        "        losses.append(float(loss))\n",
        "\n",
        "    printstr = (\n",
        "        f\"\\t Epoch {epoch}. Accuracy: {mean(accs):.6f} | Loss: {mean(losses):.6f}\"\n",
        "    )\n",
        "    if privacy_engine:\n",
        "        epsilon = privacy_engine.get_epsilon(delta)\n",
        "        printstr += f\" | (ε = {epsilon:.2f}, δ = {delta})\"\n",
        "\n",
        "    print(printstr)\n",
        "    return losses, accs\n",
        "\n",
        "\n",
        "def test(model, test_loader, privacy_engine, device=\"cuda:0\"):\n",
        "    accs = []\n",
        "    with torch.no_grad():\n",
        "        for x, y in test_loader:\n",
        "            x = x.to(device)\n",
        "            y = y.to(device)\n",
        "\n",
        "            preds = model(x).argmax(-1)\n",
        "            n_correct = float(preds.eq(y).sum())\n",
        "            batch_accuracy = n_correct / len(y)\n",
        "\n",
        "            accs.append(batch_accuracy)\n",
        "    printstr = \"\\n----------------------------\\n\" f\"Test Accuracy: {mean(accs):.6f}\"\n",
        "    if privacy_engine:\n",
        "        epsilon = privacy_engine.get_epsilon(delta)\n",
        "        printstr += f\" (ε = {epsilon:.2f}, δ = {delta})\"\n",
        "    print(printstr + \"\\n----------------------------\\n\")\n",
        "    return\n"
      ]
    },
    {
      "cell_type": "markdown",
      "metadata": {
        "id": "QRSrnZFQZbsz"
      },
      "source": [
        "## Hyper-parameters"
      ]
    },
    {
      "cell_type": "markdown",
      "metadata": {
        "id": "O78GBNZoZbsz"
      },
      "source": [
        "There are two sets of hyper-parameters associated with this model. The first are hyper-parameters which we would expect in any machine learning training, such as the learning rate and batch size. The second set are related to the privacy engine, where for example we define the amount of noise added to the gradients (`noise_multiplier`), and the maximum L2 norm to which the per-sample gradients are clipped (`max_grad_norm`). "
      ]
    },
    {
      "cell_type": "code",
      "execution_count": 72,
      "metadata": {
        "id": "UhCN1TwVZbsz"
      },
      "outputs": [],
      "source": [
        "# Training hyper-parameters\n",
        "epochs = 20\n",
        "learning_rate = 2.0\n",
        "\n",
        "# Privacy engine hyper-parameters\n",
        "max_per_sample_grad_norm = 1.5\n",
        "delta = 8e-5\n",
        "epsilon = 12.0"
      ]
    },
    {
      "cell_type": "markdown",
      "metadata": {
        "id": "bgnr3Iv1Zbs0"
      },
      "source": [
        "## Model"
      ]
    },
    {
      "cell_type": "markdown",
      "metadata": {
        "id": "YR3cO12gZbs0"
      },
      "source": [
        "We define the name classification model in the cell below. Note that it is a simple char-LSTM classifier, where the input characters are passed through an `nn.Embedding` layer, and are subsequently input to the DPLSTM. "
      ]
    },
    {
      "cell_type": "code",
      "execution_count": 73,
      "metadata": {
        "id": "o3QK_wMSZbs0"
      },
      "outputs": [],
      "source": [
        "import torch\n",
        "from torch import nn\n",
        "from opacus.layers import DPLSTM\n",
        "\n",
        "class CharNNClassifier(nn.Module):\n",
        "    def __init__(\n",
        "        self,\n",
        "        embedding_size,\n",
        "        hidden_size,\n",
        "        output_size,\n",
        "        num_lstm_layers=1,\n",
        "        bidirectional=False,\n",
        "        vocab_size=VOCAB_SIZE,\n",
        "    ):\n",
        "        super().__init__()\n",
        "\n",
        "        self.embedding_size = embedding_size\n",
        "        self.hidden_size = hidden_size\n",
        "        self.output_size = output_size\n",
        "        self.vocab_size = vocab_size\n",
        "\n",
        "        self.embedding = nn.Embedding(vocab_size, embedding_size)\n",
        "        self.lstm = DPLSTM(\n",
        "            embedding_size,\n",
        "            hidden_size,\n",
        "            num_layers=num_lstm_layers,\n",
        "            bidirectional=bidirectional,\n",
        "            batch_first=True,\n",
        "        )\n",
        "        self.out_layer = nn.Linear(hidden_size, output_size)\n",
        "\n",
        "    def forward(self, x, hidden=None):\n",
        "        x = self.embedding(x)  # -> [B, T, D]\n",
        "        x, _ = self.lstm(x, hidden)  # -> [B, T, H]\n",
        "        x = x[:, -1, :]  # -> [B, H]\n",
        "        x = self.out_layer(x)  # -> [B, C]\n",
        "        return x"
      ]
    },
    {
      "cell_type": "markdown",
      "metadata": {
        "id": "EUSHSjLxZbs0"
      },
      "source": [
        "We now proceed to instantiate the objects (privacy engine, model and optimizer) for our differentially-private LSTM training.  However, the `nn.LSTM` is replaced with a `DPLSTM` module which enables us to calculate per-example gradients. "
      ]
    },
    {
      "cell_type": "code",
      "execution_count": 74,
      "metadata": {
        "id": "wTwkEwIdZbs1"
      },
      "outputs": [],
      "source": [
        "# Set the device to run on a GPU\n",
        "device = torch.device(\"cuda\" if torch.cuda.is_available() else \"cpu\")\n",
        "\n",
        "# Define classifier parameters\n",
        "embedding_size = 64\n",
        "hidden_size = 128  # Number of neurons in hidden layer after LSTM\n",
        "n_lstm_layers = 1\n",
        "bidirectional_lstm = False\n",
        "\n",
        "model = CharNNClassifier(\n",
        "    embedding_size,\n",
        "    hidden_size,\n",
        "    len(ds.labels),\n",
        "    n_lstm_layers,\n",
        "    bidirectional_lstm,\n",
        ").to(device)"
      ]
    },
    {
      "cell_type": "markdown",
      "metadata": {
        "id": "w8Iws7SAZbs1"
      },
      "source": [
        "## Defining the privacy engine, optimizer and loss criterion for the problem"
      ]
    },
    {
      "cell_type": "code",
      "execution_count": 75,
      "metadata": {
        "id": "Jxv3Tht6Zbs1"
      },
      "outputs": [],
      "source": [
        "criterion = nn.CrossEntropyLoss()\n",
        "optimizer = torch.optim.SGD(model.parameters(), lr=learning_rate)"
      ]
    },
    {
      "cell_type": "code",
      "execution_count": 76,
      "metadata": {
        "id": "eTEYD-HzZbs1"
      },
      "outputs": [],
      "source": [
        "from opacus import PrivacyEngine\n",
        "privacy_engine = PrivacyEngine(secure_mode=secure_mode)\n",
        "\n",
        "model, optimizer, train_loader = privacy_engine.make_private_with_epsilon(\n",
        "    module=model,\n",
        "    optimizer=optimizer,\n",
        "    data_loader=train_loader,\n",
        "    max_grad_norm=max_per_sample_grad_norm,\n",
        "    target_delta=delta,\n",
        "    target_epsilon=epsilon,\n",
        "    epochs=epochs,\n",
        ")"
      ]
    },
    {
      "cell_type": "markdown",
      "metadata": {
        "id": "8znuiYCtZbs1"
      },
      "source": [
        "## Training the name classifier with privacy"
      ]
    },
    {
      "cell_type": "markdown",
      "metadata": {
        "id": "SgVV-e0TZbs2"
      },
      "source": [
        "Finally, we can start training! We will be training for 50 epochs iterations (where each epoch corresponds to a pass over the whole dataset). We will be reporting the privacy epsilon every `test_every` epoch. We will also benchmark this differentially-private model against a model without privacy and obtain almost identical performance. Further, the private model trained with Opacus incurs only minimal overhead in training time, with the differentially-private classifier only slightly slower (by a couple of minutes) than the non-private model."
      ]
    },
    {
      "cell_type": "code",
      "execution_count": 77,
      "metadata": {
        "id": "-LGccdGjZbs2",
        "outputId": "90db60dd-c232-4078-a7dd-c3da894e73b5",
        "colab": {
          "base_uri": "https://localhost:8080/",
          "height": 1000
        }
      },
      "outputs": [
        {
          "output_type": "stream",
          "name": "stdout",
          "text": [
            "Train stats: \n",
            "\n",
            "\t Epoch 0. Accuracy: 0.416466 | Loss: 2.444053 | (ε = 3.51, δ = 8e-05)\n",
            "\n",
            "----------------------------\n",
            "Test Accuracy: 0.420713 (ε = 3.51, δ = 8e-05)\n",
            "----------------------------\n",
            "\n",
            "\t Epoch 1. Accuracy: 0.430902 | Loss: 2.250197 | (ε = 4.38, δ = 8e-05)\n",
            "\t Epoch 2. Accuracy: 0.431786 | Loss: 2.228084 | (ε = 5.07, δ = 8e-05)\n",
            "\t Epoch 3. Accuracy: 0.429215 | Loss: 2.233914 | (ε = 5.67, δ = 8e-05)\n",
            "\t Epoch 4. Accuracy: 0.421968 | Loss: 2.251166 | (ε = 6.21, δ = 8e-05)\n",
            "\t Epoch 5. Accuracy: 0.433319 | Loss: 2.151300 | (ε = 6.72, δ = 8e-05)\n",
            "\n",
            "----------------------------\n",
            "Test Accuracy: 0.432137 (ε = 6.72, δ = 8e-05)\n",
            "----------------------------\n",
            "\n",
            "\t Epoch 6. Accuracy: 0.468195 | Loss: 1.913749 | (ε = 7.19, δ = 8e-05)\n",
            "\t Epoch 7. Accuracy: 0.480620 | Loss: 1.779941 | (ε = 7.63, δ = 8e-05)\n",
            "\t Epoch 8. Accuracy: 0.490078 | Loss: 1.721745 | (ε = 8.06, δ = 8e-05)\n",
            "\t Epoch 9. Accuracy: 0.494772 | Loss: 1.709840 | (ε = 8.47, δ = 8e-05)\n",
            "\t Epoch 10. Accuracy: 0.493697 | Loss: 1.709075 | (ε = 8.87, δ = 8e-05)\n",
            "\n",
            "----------------------------\n",
            "Test Accuracy: 0.481007 (ε = 8.87, δ = 8e-05)\n",
            "----------------------------\n",
            "\n",
            "\t Epoch 11. Accuracy: 0.503981 | Loss: 1.668686 | (ε = 9.25, δ = 8e-05)\n",
            "\t Epoch 12. Accuracy: 0.514353 | Loss: 1.650405 | (ε = 9.62, δ = 8e-05)\n",
            "\t Epoch 13. Accuracy: 0.515624 | Loss: 1.635460 | (ε = 9.98, δ = 8e-05)\n",
            "\t Epoch 14. Accuracy: 0.528269 | Loss: 1.630466 | (ε = 10.34, δ = 8e-05)\n",
            "\t Epoch 15. Accuracy: 0.525416 | Loss: 1.613394 | (ε = 10.68, δ = 8e-05)\n",
            "\n",
            "----------------------------\n",
            "Test Accuracy: 0.527709 (ε = 10.68, δ = 8e-05)\n",
            "----------------------------\n",
            "\n",
            "\t Epoch 16. Accuracy: 0.531337 | Loss: 1.601298 | (ε = 11.02, δ = 8e-05)\n",
            "\t Epoch 17. Accuracy: 0.534380 | Loss: 1.586667 | (ε = 11.35, δ = 8e-05)\n",
            "\t Epoch 18. Accuracy: 0.543884 | Loss: 1.579816 | (ε = 11.68, δ = 8e-05)\n",
            "\t Epoch 19. Accuracy: 0.546763 | Loss: 1.565371 | (ε = 12.00, δ = 8e-05)\n",
            "\n",
            "----------------------------\n",
            "Test Accuracy: 0.528477 (ε = 12.00, δ = 8e-05)\n",
            "----------------------------\n",
            "\n"
          ]
        },
        {
          "output_type": "execute_result",
          "data": {
            "text/plain": [
              "[<matplotlib.lines.Line2D at 0x7f9bde5a6e50>]"
            ]
          },
          "metadata": {},
          "execution_count": 77
        },
        {
          "output_type": "display_data",
          "data": {
            "text/plain": [
              "<Figure size 432x288 with 1 Axes>"
            ],
            "image/png": "[encoded data removed]"
          },
          "metadata": {
            "needs_background": "light"
          }
        },
        {
          "output_type": "display_data",
          "data": {
            "text/plain": [
              "<Figure size 432x288 with 1 Axes>"
            ],
            "image/png": "[encoded data removed]"
          },
          "metadata": {
            "needs_background": "light"
          }
        }
      ],
      "source": [
        "print(\"Train stats: \\n\")\n",
        "all_losses_privacy = []\n",
        "all_accs_privacy = []\n",
        "\n",
        "for epoch in range(epochs):\n",
        "    losses, accs = train(model, criterion, optimizer, train_loader, epoch, privacy_engine, device=device)\n",
        "    all_losses_privacy.extend(losses)\n",
        "    all_accs_privacy.extend(accs)\n",
        "    if test_every:\n",
        "        if epoch % test_every == 0:\n",
        "            test(model, test_loader, privacy_engine, device=device)\n",
        "\n",
        "test(model, test_loader, privacy_engine, device=device)\n",
        "\n",
        "import matplotlib.pyplot as plt\n",
        "import matplotlib.ticker as ticker\n",
        "\n",
        "plt.figure()\n",
        "plt.plot(all_losses_privacy)\n",
        "plt.figure()\n",
        "plt.plot(all_accs_privacy)"
      ]
    },
    {
      "cell_type": "markdown",
      "metadata": {
        "id": "hlcG6BupZbs2"
      },
      "source": [
        "The differentially-private name classification model obtains a test accuracy of 0.75 with an epsilon of just under 12. This shows that we can achieve good accuracy on this task, with minimal loss of privacy."
      ]
    },
    {
      "cell_type": "markdown",
      "metadata": {
        "id": "CvYYXcwhZbs2"
      },
      "source": [
        "## Training the name classifier without privacy"
      ]
    },
    {
      "cell_type": "markdown",
      "metadata": {
        "id": "ONSUmG1jZbs2"
      },
      "source": [
        " We also run a comparison with a non-private model to see if the performance obtained with privacy is comparable to it. To do this, we keep the parameters such as learning rate and batch size the same, and only define a different instance of the model along with a separate optimizer."
      ]
    },
    {
      "cell_type": "code",
      "execution_count": 78,
      "metadata": {
        "id": "zrO9YMRQZbs2"
      },
      "outputs": [],
      "source": [
        "model_nodp = CharNNClassifier(\n",
        "    embedding_size,\n",
        "    hidden_size,\n",
        "    len(ds.labels),\n",
        "    n_lstm_layers,\n",
        "    bidirectional_lstm,\n",
        ").to(device)\n",
        "\n",
        "\n",
        "optimizer_nodp = torch.optim.SGD(model_nodp.parameters(), lr=0.5)"
      ]
    },
    {
      "cell_type": "code",
      "execution_count": 79,
      "metadata": {
        "id": "_qc4yg48Zbs3",
        "outputId": "373cd4d3-4f01-4245-d03e-45940d5c7ef6",
        "colab": {
          "base_uri": "https://localhost:8080/",
          "height": 1000
        }
      },
      "outputs": [
        {
          "output_type": "stream",
          "name": "stdout",
          "text": [
            "\t Epoch 0. Accuracy: 0.413156 | Loss: 2.253569\n",
            "\n",
            "----------------------------\n",
            "Test Accuracy: 0.420713\n",
            "----------------------------\n",
            "\n",
            "\t Epoch 1. Accuracy: 0.435449 | Loss: 2.172924\n",
            "\t Epoch 2. Accuracy: 0.423992 | Loss: 2.187024\n",
            "\t Epoch 3. Accuracy: 0.431383 | Loss: 2.174955\n",
            "\t Epoch 4. Accuracy: 0.428736 | Loss: 2.170502\n",
            "\t Epoch 5. Accuracy: 0.425481 | Loss: 2.180156\n",
            "\n",
            "----------------------------\n",
            "Test Accuracy: 0.421201\n",
            "----------------------------\n",
            "\n",
            "\t Epoch 6. Accuracy: 0.432725 | Loss: 2.167378\n",
            "\t Epoch 7. Accuracy: 0.427478 | Loss: 2.180849\n",
            "\t Epoch 8. Accuracy: 0.430790 | Loss: 2.171839\n",
            "\t Epoch 9. Accuracy: 0.422499 | Loss: 2.186137\n",
            "\t Epoch 10. Accuracy: 0.429677 | Loss: 2.163712\n",
            "\n",
            "----------------------------\n",
            "Test Accuracy: 0.421201\n",
            "----------------------------\n",
            "\n",
            "\t Epoch 11. Accuracy: 0.431060 | Loss: 2.161904\n",
            "\t Epoch 12. Accuracy: 0.431206 | Loss: 2.166213\n",
            "\t Epoch 13. Accuracy: 0.434833 | Loss: 2.158972\n",
            "\t Epoch 14. Accuracy: 0.435337 | Loss: 2.146451\n",
            "\t Epoch 15. Accuracy: 0.436757 | Loss: 2.130656\n",
            "\n",
            "----------------------------\n",
            "Test Accuracy: 0.425446\n",
            "----------------------------\n",
            "\n",
            "\t Epoch 16. Accuracy: 0.447037 | Loss: 2.004306\n",
            "\t Epoch 17. Accuracy: 0.462325 | Loss: 1.811106\n",
            "\t Epoch 18. Accuracy: 0.483214 | Loss: 1.721514\n",
            "\t Epoch 19. Accuracy: 0.480708 | Loss: 1.709167\n",
            "\n",
            "----------------------------\n",
            "Test Accuracy: 0.480656\n",
            "----------------------------\n",
            "\n"
          ]
        },
        {
          "output_type": "execute_result",
          "data": {
            "text/plain": [
              "[<matplotlib.lines.Line2D at 0x7f9bde429dc0>]"
            ]
          },
          "metadata": {},
          "execution_count": 79
        },
        {
          "output_type": "display_data",
          "data": {
            "text/plain": [
              "<Figure size 432x288 with 1 Axes>"
            ],
            "image/png": "[encoded data removed]"
          },
          "metadata": {
            "needs_background": "light"
          }
        },
        {
          "output_type": "display_data",
          "data": {
            "text/plain": [
              "<Figure size 432x288 with 1 Axes>"
            ],
            "image/png": "[encoded data removed]"
          },
          "metadata": {
            "needs_background": "light"
          }
        }
      ],
      "source": [
        "all_losses = []\n",
        "all_accs = []\n",
        "\n",
        "for epoch in range(epochs):\n",
        "    losses, accs = train(model_nodp, criterion, optimizer_nodp, train_loader, epoch, None, device=device)\n",
        "    all_losses.extend(losses)\n",
        "    all_accs.extend(accs)\n",
        "    if test_every:\n",
        "        if epoch % test_every == 0:\n",
        "            test(model_nodp, test_loader, None, device=device)\n",
        "\n",
        "test(model_nodp, test_loader, None, device=device)\n",
        "\n",
        "import matplotlib.pyplot as plt\n",
        "import matplotlib.ticker as ticker\n",
        "\n",
        "plt.figure()\n",
        "plt.plot(all_losses)\n",
        "plt.figure()\n",
        "plt.plot(all_accs)"
      ]
    },
    {
      "cell_type": "markdown",
      "metadata": {
        "id": "NDM7rd0wZbs3"
      },
      "source": [
        "We run the training loop again, this time without privacy and for the same number of iterations. "
      ]
    },
    {
      "cell_type": "markdown",
      "metadata": {
        "id": "6mF8IzdRZbs3"
      },
      "source": [
        "The non-private classifier obtains a test accuracy of around 0.75 with the same parameters and number of epochs. We are effectively trading off performance on the name classification task for a lower loss of privacy."
      ]
    }
  ],
  "metadata": {
    "kernelspec": {
      "display_name": "Python 3 (ipykernel)",
      "language": "python",
      "name": "python3"
    },
    "language_info": {
      "codemirror_mode": {
        "name": "ipython",
        "version": 3
      },
      "file_extension": ".py",
      "mimetype": "text/x-python",
      "name": "python",
      "nbconvert_exporter": "python",
      "pygments_lexer": "ipython3",
      "version": "3.10.6"
    },
    "colab": {
      "provenance": []
    }
  },
  "nbformat": 4,
  "nbformat_minor": 0
}